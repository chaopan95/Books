{
 "cells": [
  {
   "cell_type": "code",
   "execution_count": 1,
   "metadata": {},
   "outputs": [],
   "source": [
    "import numpy as np\n",
    "import matplotlib.pyplot as plt"
   ]
  },
  {
   "cell_type": "code",
   "execution_count": 2,
   "metadata": {},
   "outputs": [],
   "source": [
    "def loadData(fileName):\n",
    "    return np.mat(np.loadtxt(fileName))\n",
    "def PCA(dataMat, topNFeatures = 1):\n",
    "    m, n = dataMat.shape\n",
    "    dataMat = dataMat.transpose()\n",
    "    meanValues = dataMat.mean(1)\n",
    "    dataCentralised = dataMat - meanValues\n",
    "    covMat = dataCentralised * dataCentralised.T / m\n",
    "    eigenValues, eigenMat = np.linalg.eig(covMat)\n",
    "    indexSortedEigenValues = eigenValues.argsort()[::-1]\n",
    "    return (eigenMat[:, indexSortedEigenValues[:topNFeatures]].T * dataMat).T"
   ]
  },
  {
   "cell_type": "code",
   "execution_count": 3,
   "metadata": {
    "scrolled": true
   },
   "outputs": [
    {
     "data": {
      "image/png": "[encoded data removed]",
      "text/plain": [
       "<matplotlib.figure.Figure at 0x18f471e85c0>"
      ]
     },
     "metadata": {},
     "output_type": "display_data"
    }
   ],
   "source": [
    "dataMat = loadData('testSet.txt')\n",
    "dataMat -= dataMat.mean(0)\n",
    "newDataMat = PCA(dataMat, 1)\n",
    "fig = plt.figure()\n",
    "ax = fig.add_subplot(111)\n",
    "ax.scatter(dataMat[:, 0].A, dataMat[:, 1].A)\n",
    "ax.scatter(newDataMat[:, 0].A, newDataMat[:, 0].A, c = 'red')\n",
    "plt.show()"
   ]
  },
  {
   "cell_type": "code",
   "execution_count": 84,
   "metadata": {
    "scrolled": true
   },
   "outputs": [],
   "source": [
    "dataMat = loadData('secom.data')\n",
    "m, n = dataMat.shape\n",
    "for col in range(n):\n",
    "    dataMat.A[:, col][np.nonzero(np.isnan(dataMat.A[:, col]))] =\\\n",
    "    dataMat.A[:, col][np.nonzero(~np.isnan(dataMat.A[:, col]))].mean()"
   ]
  },
  {
   "cell_type": "code",
   "execution_count": 4,
   "metadata": {},
   "outputs": [],
   "source": [
    "a = np.mat([[1, 1, 0, 0, -2], [2, -1, -1, 0, 0]])"
   ]
  },
  {
   "cell_type": "code",
   "execution_count": 7,
   "metadata": {},
   "outputs": [
    {
     "data": {
      "text/plain": [
       "(array([1.4, 1. ]), matrix([[ 0.70710678, -0.70710678],\n",
       "         [ 0.70710678,  0.70710678]]))"
      ]
     },
     "execution_count": 7,
     "metadata": {},
     "output_type": "execute_result"
    }
   ],
   "source": [
    "np.linalg.eig(a * a.T / 5)"
   ]
  },
  {
   "cell_type": "code",
   "execution_count": 11,
   "metadata": {},
   "outputs": [
    {
     "data": {
      "text/plain": [
       "(array([ 3.50000000e+00,  2.50000000e+00, -1.15536884e-16, -3.81014739e-17,\n",
       "         0.00000000e+00]),\n",
       " matrix([[-8.01783726e-01, -3.16227766e-01,  3.93632897e-01,\n",
       "           1.90783391e-01,  0.00000000e+00],\n",
       "         [-4.04043781e-16,  6.32455532e-01,  7.26438661e-01,\n",
       "           7.66071304e-01,  0.00000000e+00],\n",
       "         [ 2.67261242e-01,  3.16227766e-01,  6.08271341e-02,\n",
       "          -3.84504522e-01,  0.00000000e+00],\n",
       "         [ 0.00000000e+00,  0.00000000e+00,  0.00000000e+00,\n",
       "           0.00000000e+00,  1.00000000e+00],\n",
       "         [ 5.34522484e-01, -6.32455532e-01,  5.60035779e-01,\n",
       "           4.78427348e-01,  0.00000000e+00]]))"
      ]
     },
     "execution_count": 11,
     "metadata": {},
     "output_type": "execute_result"
    }
   ],
   "source": [
    "np.linalg.eig(a.T* a / 2)"
   ]
  },
  {
   "cell_type": "code",
   "execution_count": 12,
   "metadata": {},
   "outputs": [
    {
     "data": {
      "text/plain": [
       "matrix([[ 5, -1, -2,  0, -2],\n",
       "        [-1,  2,  1,  0, -2],\n",
       "        [-2,  1,  1,  0,  0],\n",
       "        [ 0,  0,  0,  0,  0],\n",
       "        [-2, -2,  0,  0,  4]])"
      ]
     },
     "execution_count": 12,
     "metadata": {},
     "output_type": "execute_result"
    }
   ],
   "source": [
    "a.T* a"
   ]
  },
  {
   "cell_type": "code",
   "execution_count": null,
   "metadata": {},
   "outputs": [],
   "source": []
  },
  {
   "cell_type": "code",
   "execution_count": null,
   "metadata": {},
   "outputs": [],
   "source": []
  },
  {
   "cell_type": "code",
   "execution_count": null,
   "metadata": {},
   "outputs": [],
   "source": []
  },
  {
   "cell_type": "code",
   "execution_count": null,
   "metadata": {},
   "outputs": [],
   "source": []
  },
  {
   "cell_type": "code",
   "execution_count": null,
   "metadata": {},
   "outputs": [],
   "source": []
  },
  {
   "cell_type": "code",
   "execution_count": null,
   "metadata": {},
   "outputs": [],
   "source": []
  },
  {
   "cell_type": "code",
   "execution_count": null,
   "metadata": {},
   "outputs": [],
   "source": []
  },
  {
   "cell_type": "code",
   "execution_count": null,
   "metadata": {},
   "outputs": [],
   "source": []
  }
 ],
 "metadata": {
  "kernelspec": {
   "display_name": "Python 3",
   "language": "python",
   "name": "python3"
  },
  "language_info": {
   "codemirror_mode": {
    "name": "ipython",
    "version": 3
   },
   "file_extension": ".py",
   "mimetype": "text/x-python",
   "name": "python",
   "nbconvert_exporter": "python",
   "pygments_lexer": "ipython3",
   "version": "3.6.4"
  }
 },
 "nbformat": 4,
 "nbformat_minor": 2
}
