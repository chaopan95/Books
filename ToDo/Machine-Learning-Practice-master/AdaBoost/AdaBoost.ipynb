{
 "cells": [
  {
   "cell_type": "code",
   "execution_count": 4,
   "metadata": {},
   "outputs": [],
   "source": [
    "import numpy as np\n",
    "import matplotlib.pyplot as plt"
   ]
  },
  {
   "cell_type": "code",
   "execution_count": 100,
   "metadata": {},
   "outputs": [],
   "source": [
    "def stumpClassifier(dataMat, j, threshold, inequality):\n",
    "    m, n = dataMat.shape\n",
    "    predictedValue = np.ones((m, 1))\n",
    "    if inequality == 'left':\n",
    "        predictedValue[dataMat[:, j] <= threshold] = -1\n",
    "    else:\n",
    "        predictedValue[dataMat[:, j] > threshold] = -1\n",
    "    return predictedValue\n",
    "\n",
    "def bestClassifier(dataMat, yMat, D):\n",
    "    m, n = dataMat.shape\n",
    "    minError = np.Inf\n",
    "    bestThreshold = np.Inf\n",
    "    bestdirection = ''\n",
    "    col = -1 #record whch column is best for classify\n",
    "    for j in range(n):\n",
    "        maxValue = dataMat[:, j].max()\n",
    "        minValue = dataMat[:, j].min()\n",
    "        interval = maxValue - minValue\n",
    "        step = round(interval / m, 2)\n",
    "        for s in range(-1, int(interval) + 2):\n",
    "            for inequality in ['left', 'right']:                \n",
    "                threshold = minValue + float(step) * s\n",
    "                predictedValue = stumpClassifier(dataMat, j, threshold, inequality)\n",
    "                error = np.ones((m, 1))\n",
    "                error[predictedValue == yMat] = 0\n",
    "                weightedError = D.T * error\n",
    "                if weightedError < minError:\n",
    "                    minError = weightedError\n",
    "                    col = j\n",
    "                    bestThreshold = threshold\n",
    "                    bestdirection = inequality\n",
    "                    bestPredictedValue = predictedValue.copy()\n",
    "    return col, bestThreshold, bestPredictedValue, bestdirection, float(minError)\n",
    "\n",
    "def AdaBoostClassifier(dataMat, labels):\n",
    "    Classifier = []\n",
    "    xMat = np.mat(dataMat)\n",
    "    yMat = np.mat(labels).T\n",
    "    m, n = xMat.shape\n",
    "    D = np.mat(np.ones((m, 1)) / m)\n",
    "    aggPredictedValue = np.mat(np.zeros((m, 1)))\n",
    "    for i in range(10):\n",
    "        col, threshold, predictedValue, direction, error = bestClassifier(dataMat, yMat, D)\n",
    "        alpha = 0.5 * np.log((1-error)/max(error, 1e-16))\n",
    "        colCopy = dataMat[:, col].copy()\n",
    "        temp = np.multiply(-alpha * yMat, predictedValue)\n",
    "        D = np.multiply(D, np.exp(temp))\n",
    "        D = D / D.sum()\n",
    "        Classifier.append([col, threshold, alpha, direction])\n",
    "        aggPredictedValue += alpha * predictedValue\n",
    "        aggregateError = np.multiply(np.sign(aggPredictedValue) != yMat, np.ones((m, 1)))\n",
    "        errorRates = aggregateError.sum() / m\n",
    "        if errorRates == 0:\n",
    "            break\n",
    "    return Classifier, aggPredictedValue\n",
    "\n",
    "def AdaClassify(testPoint, Classifiers):\n",
    "    aggPredictedValue = 0\n",
    "    for clf in Classifiers:\n",
    "        aggPredictedValue += clf[2] * stumpClassifier(np.mat(testPoint), clf[0], clf[1], clf[3])\n",
    "    return np.sign(aggPredictedValue)\n",
    "\n",
    "def HorseColic():\n",
    "    data = np.loadtxt('horseColicTraining2.txt')\n",
    "    trainMat = np.mat(data[:, :-1])\n",
    "    trainLabel = data[:, -1]\n",
    "    classifiers, predictedValue = AdaBoostClassifier(trainMat, trainLabel)\n",
    "    ROC(predictedValue, trainLabel)\n",
    "    data = np.loadtxt('horseColicTest2.txt')\n",
    "    testArr = data[:, :-1]\n",
    "    testLabel = data[:, -1]\n",
    "    error = 0\n",
    "    for i in range(testArr.shape[0]):\n",
    "        if AdaClassify(testArr[i], classifiers) != testLabel[i]:\n",
    "            error += 1\n",
    "    print('Error rate is {}'.format(error/testArr.shape[0]))\n",
    "\n",
    "def ROC(predictedValue, labels):\n",
    "    cur = [1, 1]\n",
    "    xStep = float(-1/trainLabel[trainLabel == -1].sum())\n",
    "    yStep = float(1/trainLabel[trainLabel == 1].sum())\n",
    "    indexSorted = predictedValue.T.argsort().tolist()[0]\n",
    "    ySum = 0\n",
    "    fig = plt.figure()\n",
    "    ax = fig.add_subplot(111)\n",
    "    for i in indexSorted:\n",
    "        if labels[i] == 1:\n",
    "            deltaX = 0\n",
    "            deltaY = yStep\n",
    "        else:\n",
    "            deltaX = xStep\n",
    "            deltaY = 0\n",
    "            ySum += cur[1]\n",
    "        ax.plot([cur[0], cur[0]-deltaX], [cur[1], cur[1]-deltaY], c = 'blue')\n",
    "        cur = [cur[0]-deltaX, cur[1]-deltaY]\n",
    "    ax.plot([0, 1], [0, 1], 'b--')\n",
    "    plt.xlabel('FPR (False Positive Rate)')\n",
    "    plt.ylabel('TPR(True Positive Rate)')\n",
    "    plt.title('Receiver Operating Characteristic curve')\n",
    "    plt.text(0.5, 0.2, 'AUC is {}'.format(round(ySum * xStep, 3)))"
   ]
  },
  {
   "cell_type": "code",
   "execution_count": 101,
   "metadata": {},
   "outputs": [
    {
     "name": "stdout",
     "output_type": "stream",
     "text": [
      "Error rate is 0.208955223880597\n"
     ]
    },
    {
     "data": {
      "image/png": "[encoded data removed]",
      "text/plain": [
       "<matplotlib.figure.Figure at 0x128250f7320>"
      ]
     },
     "metadata": {},
     "output_type": "display_data"
    }
   ],
   "source": [
    "HorseColic()"
   ]
  },
  {
   "cell_type": "code",
   "execution_count": null,
   "metadata": {
    "scrolled": true
   },
   "outputs": [],
   "source": []
  },
  {
   "cell_type": "code",
   "execution_count": null,
   "metadata": {
    "scrolled": true
   },
   "outputs": [],
   "source": []
  },
  {
   "cell_type": "code",
   "execution_count": null,
   "metadata": {},
   "outputs": [],
   "source": []
  },
  {
   "cell_type": "code",
   "execution_count": null,
   "metadata": {},
   "outputs": [],
   "source": []
  },
  {
   "cell_type": "code",
   "execution_count": null,
   "metadata": {},
   "outputs": [],
   "source": []
  },
  {
   "cell_type": "code",
   "execution_count": null,
   "metadata": {},
   "outputs": [],
   "source": []
  },
  {
   "cell_type": "code",
   "execution_count": null,
   "metadata": {},
   "outputs": [],
   "source": []
  }
 ],
 "metadata": {
  "kernelspec": {
   "display_name": "Python 3",
   "language": "python",
   "name": "python3"
  }
 },
 "nbformat": 4,
 "nbformat_minor": 2
}
