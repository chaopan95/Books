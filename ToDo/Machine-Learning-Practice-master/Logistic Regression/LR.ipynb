{
 "cells": [
  {
   "cell_type": "code",
   "execution_count": 181,
   "metadata": {},
   "outputs": [],
   "source": [
    "import numpy as np\n",
    "import matplotlib.pyplot as plt\n",
    "import warnings\n",
    "warnings.filterwarnings('ignore')"
   ]
  },
  {
   "cell_type": "code",
   "execution_count": 182,
   "metadata": {},
   "outputs": [],
   "source": [
    "def LoadData():\n",
    "    Data = np.loadtxt('testSet.txt')\n",
    "    return np.insert(Data[:,:-1].astype(float), obj = 0, values = 1, axis = 1), Data[:,-1].astype(int)\n",
    "def Sigmoid(X):\n",
    "    return 1.0 / (1 + np.exp(-X))\n",
    "def GradientDescent(dataMat, label):\n",
    "    alpha = 0.01\n",
    "    MaxCycle = 500\n",
    "    dataMat = np.mat(dataMat)\n",
    "    label = np.mat(label).T\n",
    "    h, w = dataMat.shape\n",
    "    theta = np.ones((w, 1))\n",
    "    for cycle in range(MaxCycle):\n",
    "        sigmoid = Sigmoid(dataMat * theta)\n",
    "        diff = label - sigmoid\n",
    "        theta = theta + alpha * dataMat.T * diff\n",
    "    return theta\n",
    "def StoGradDescent(dataMat, label, numIter = 50):\n",
    "    alpha = 0.01\n",
    "    m, n = dataMat.shape\n",
    "    theta = np.ones(n)\n",
    "    for num in range(numIter):\n",
    "        dataIndex = list(range(m))\n",
    "        count = 0\n",
    "        while(len(dataIndex) != 0):\n",
    "            randNum = int(np.random.uniform(0, len(dataIndex)))\n",
    "            randIndex = dataIndex[randNum]\n",
    "            del dataIndex[randNum]\n",
    "            alpha = 1/(1 + count + num) + 0.01\n",
    "            sigmoid = Sigmoid(sum(dataMat[randIndex] * theta))\n",
    "            diff = label[randIndex] - sigmoid\n",
    "            theta = theta + alpha * diff * dataMat[randIndex]\n",
    "            count += 1\n",
    "    return np.array(theta)\n",
    "def plotBestFit():\n",
    "    dataMat, label = LoadData()\n",
    "    dataArr = np.array(dataMat)\n",
    "    #weight = GradientDescent(dataMat, label)\n",
    "    weight = StoGradDescent(dataMat, label)\n",
    "    try:\n",
    "        weight = weight.getA()\n",
    "    except:\n",
    "        pass\n",
    "    xcoor1 = []\n",
    "    ycoor1 = []\n",
    "    xcoor2 = []\n",
    "    ycoor2 = []\n",
    "    for i in range(dataArr.shape[0]):\n",
    "        if int(label[i]) == 1:\n",
    "            xcoor1.append(dataArr[i, 1])\n",
    "            ycoor1.append(dataArr[i, 2])\n",
    "        else:\n",
    "            xcoor2.append(dataArr[i, 1])\n",
    "            ycoor2.append(dataArr[i, 2])\n",
    "    fig = plt.figure()\n",
    "    ax = fig.add_subplot(111)\n",
    "    ax.scatter(xcoor1, ycoor1, s = 30, c = 'red', marker = 's')\n",
    "    ax.scatter(xcoor2, ycoor2, s = 30, c = 'green')\n",
    "    X = np.arange(-3.0, 3.0, 0.1)\n",
    "    Y = (-weight[0] - weight[1] * X) / weight[2]\n",
    "    ax.plot(X, Y)\n",
    "    plt.xlabel('X1')\n",
    "    plt.ylabel('X2')\n",
    "    plt.show()\n",
    "def ClassifyCategory(Datas, weights):\n",
    "    data = Datas * weights\n",
    "    result = []\n",
    "    for row in data:\n",
    "        if Sigmoid(sum(row)) >= 0.5:\n",
    "            result.append(1)\n",
    "        else:\n",
    "            result.append(0)\n",
    "    return result"
   ]
  },
  {
   "cell_type": "code",
   "execution_count": 183,
   "metadata": {
    "scrolled": true
   },
   "outputs": [
    {
     "data": {
      "image/png": "[encoded data removed]",
      "text/plain": [
       "<matplotlib.figure.Figure at 0x20d997e5eb8>"
      ]
     },
     "metadata": {},
     "output_type": "display_data"
    }
   ],
   "source": [
    "plotBestFit()"
   ]
  },
  {
   "cell_type": "code",
   "execution_count": 180,
   "metadata": {},
   "outputs": [
    {
     "name": "stdout",
     "output_type": "stream",
     "text": [
      "Error rate is 0.19402985074626866\n",
      "Error rate is 0.29850746268656714\n",
      "Error rate is 0.26865671641791045\n",
      "Error rate is 0.3582089552238806\n",
      "Error rate is 0.31343283582089554\n",
      "Error rate is 0.29850746268656714\n",
      "Error rate is 0.23880597014925373\n",
      "Error rate is 0.31343283582089554\n",
      "Error rate is 0.4626865671641791\n",
      "Error rate is 0.417910447761194\n",
      "Error rate is 0.417910447761194\n",
      "Error rate is 0.2537313432835821\n",
      "Error rate is 0.43283582089552236\n",
      "Error rate is 0.43283582089552236\n",
      "Error rate is 0.7014925373134329\n",
      "Error rate is 0.29850746268656714\n",
      "Error rate is 0.5522388059701493\n",
      "Error rate is 0.26865671641791045\n",
      "Error rate is 0.3283582089552239\n",
      "Error rate is 0.417910447761194\n",
      "Mean error rate is 0.36343283582089553\n"
     ]
    }
   ],
   "source": [
    "MeanErrorRate = []\n",
    "for i in range(20):\n",
    "    # fatality from colic\n",
    "    TrainingData = np.loadtxt('horseColicTraining.txt')\n",
    "    TrainingFeatures = TrainingData[:,:-1].astype(float)\n",
    "    TrainingLabels = TrainingData[:,-1].astype(int)\n",
    "    weights = StoGradDescent(TrainingFeatures, TrainingLabels)\n",
    "    TestgData = np.loadtxt('horseColicTest.txt')\n",
    "    TestFeatures = TestgData[:,:-1].astype(float)\n",
    "    TestLabels = TestgData[:,-1].astype(int)\n",
    "    PredictedLabels = ClassifyCategory(TestFeatures, weights)\n",
    "    error = 0\n",
    "    for i in range(len(PredictedLabels)):\n",
    "        if PredictedLabels[i] != TestLabels[i]:\n",
    "            error += 1\n",
    "    print('Error rate is {}'.format(error/len(TestLabels)))\n",
    "    MeanErrorRate.append(error/len(TestLabels))\n",
    "print('Mean error rate is {}'.format(np.mean(MeanErrorRate)))"
   ]
  },
  {
   "cell_type": "code",
   "execution_count": 171,
   "metadata": {},
   "outputs": [
    {
     "data": {
      "text/plain": [
       "array([ 2.63680227e+01, -6.63349496e-01,  1.11988332e+02, -7.93009951e+01,\n",
       "        1.34735677e+01, -0.00000000e+00, -5.34905981e+00, -2.91795038e+01,\n",
       "        1.05837081e-01, -3.06486969e+01,  4.36543951e+01, -1.52023960e+00,\n",
       "        2.96005062e+01, -5.64876660e+00, -3.40567444e+01,  0.00000000e+00,\n",
       "       -8.02424073e+00,  1.22456019e+00, -1.55479909e+00, -0.00000000e+00,\n",
       "       -0.00000000e+00])"
      ]
     },
     "execution_count": 171,
     "metadata": {},
     "output_type": "execute_result"
    }
   ],
   "source": [
    "(TestFeatures * weights)[0]"
   ]
  },
  {
   "cell_type": "code",
   "execution_count": null,
   "metadata": {},
   "outputs": [],
   "source": []
  },
  {
   "cell_type": "code",
   "execution_count": null,
   "metadata": {},
   "outputs": [],
   "source": []
  },
  {
   "cell_type": "code",
   "execution_count": null,
   "metadata": {},
   "outputs": [],
   "source": []
  },
  {
   "cell_type": "code",
   "execution_count": null,
   "metadata": {},
   "outputs": [],
   "source": []
  }
 ],
 "metadata": {
  "kernelspec": {
   "display_name": "Python 3",
   "language": "python",
   "name": "python3"
  },
  "language_info": {
   "codemirror_mode": {
    "name": "ipython",
    "version": 3
   },
   "file_extension": ".py",
   "mimetype": "text/x-python",
   "name": "python",
   "nbconvert_exporter": "python",
   "pygments_lexer": "ipython3",
   "version": "3.6.4"
  }
 },
 "nbformat": 4,
 "nbformat_minor": 2
}
