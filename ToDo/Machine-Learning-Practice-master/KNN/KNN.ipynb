{
 "cells": [
  {
   "cell_type": "code",
   "execution_count": 273,
   "metadata": {},
   "outputs": [],
   "source": [
    "import numpy as np\n",
    "import operator\n",
    "import matplotlib.pyplot as plt\n",
    "import os"
   ]
  },
  {
   "cell_type": "code",
   "execution_count": 292,
   "metadata": {},
   "outputs": [],
   "source": [
    "def CreateDataSet():\n",
    "    dataSet = np.array([[1.0, 1.1], [1.0, 1.0], [0, 0], [0, 0.1]])\n",
    "    labels = ['A', 'A', 'B', 'B']\n",
    "    return dataSet, labels\n",
    "def KNN(inX, dataSet, labels, k):\n",
    "    dataSetSize = dataSet.shape[0]\n",
    "    diffMat = np.tile(inX, (dataSetSize, 1)) - dataSet\n",
    "    sqDiffMat = diffMat ** 2\n",
    "    sqDistances = sqDiffMat.sum(axis = 1)\n",
    "    distances = sqDistances ** 0.5\n",
    "    sortedDistIndices = distances.argsort() # sort the give original index\n",
    "    vote = {}\n",
    "    for i in range(k):\n",
    "        if labels[sortedDistIndices[i]] not in vote.keys():\n",
    "            vote[labels[sortedDistIndices[i]]] = 1\n",
    "        else:\n",
    "            vote[labels[sortedDistIndices[i]]] += 1\n",
    "    return sorted(vote.items(), key = operator.itemgetter(1), reverse = True)[0][0]\n",
    "def LoadText(FileName):\n",
    "    file = open(FileName)\n",
    "    dataMat = []\n",
    "    dataLab = []\n",
    "    for line in file.readlines():\n",
    "        data = line.strip().split('\\t')\n",
    "        dataMat.append(data[:-1])\n",
    "        dataLab.append(data[-1])\n",
    "    return np.array(dataMat).astype(float), np.array(dataLab)\n",
    "def NormData(dataMat):\n",
    "    minValues = dataMat.min(0)\n",
    "    maxValues = dataMat.max(0)\n",
    "    intervals = maxValues - minValues\n",
    "    NormDataSet = (dataMat - np.tile(minValues, (dataMat.shape[0], 1))) / np.tile(intervals, (dataMat.shape[0], 1))\n",
    "    return NormDataSet, maxValues, minValues\n",
    "def SeperateData(dataMat, dataLab, num):\n",
    "    testData = []\n",
    "    testDataLabel = []\n",
    "    trainData = []\n",
    "    trainDataLabel = []\n",
    "    for i in range(dataMat.shape[0]):\n",
    "        if i >= num*100 and i <(num+1)*100:\n",
    "            testData.append(dataMat[i])\n",
    "            testDataLabel.append(dataLab[i])\n",
    "        else:\n",
    "            trainData.append(dataMat[i])\n",
    "            trainDataLabel.append(dataLab[i])\n",
    "    return np.array(testData), np.array(testDataLabel), np.array(trainData), np.array(trainDataLabel)\n",
    "def KKNCrossTest():\n",
    "    dataMat, dataLab = LoadText('datingTestSet.txt')\n",
    "    numCross = 10\n",
    "    fig = plt.figure()\n",
    "    ax = fig.add_subplot(111)\n",
    "    for label in set(list(dataLab)):\n",
    "        ax.scatter(dataMat[np.nonzero(dataLab == label)][:, 0], dataMat[np.nonzero(dataLab == label)][:, 1])\n",
    "    plt.show()\n",
    "    NormDataMat, maxValues, minValues = NormData(dataMat)\n",
    "    MeanError = []\n",
    "    for num in range(numCross):\n",
    "        error = 0\n",
    "        testData = NormDataMat[num * 100 : (num + 1)*100, :]\n",
    "        testDataLabel = dataLab[num * 100 : (num + 1)*100]\n",
    "        trainData = np.insert(NormDataMat[:num*100, :], obj = NormDataMat[:num*100, :].shape[0], \\\n",
    "                              values = NormDataMat[(num+1) * 100:, :], axis = 0)\n",
    "        trainDataLabel = np.insert(dataLab[:num*100], obj = dataLab[:num*100].shape[0], \\\n",
    "                              values = dataLab[(num+1) * 100:], axis = 0)\n",
    "        for i in range(len(testData)):\n",
    "            if KNN(testData[i], trainData, trainDataLabel, 3) != testDataLabel[i]:\n",
    "                error += 1\n",
    "        print('Error rate is {}'.format(error/len(testData)))\n",
    "        MeanError.append(error/len(testData))\n",
    "    print('Mean error rate is {}'.format(np.mean(MeanError)))\n",
    "def ImageToMatrix(FileName):\n",
    "    vect = []\n",
    "    file = open(FileName)\n",
    "    for line in file.readlines():\n",
    "        for j in range(len(line[:-1])):\n",
    "            vect.append(line[j])\n",
    "    return np.array(vect).astype(int)\n",
    "def HandwritingClassTest():\n",
    "    TrainLabel = []\n",
    "    TrainData = []\n",
    "    TestLabel = []\n",
    "    TestData = []\n",
    "    for file in os.listdir('trainingDigits'):\n",
    "        TrainData.append(ImageToMatrix('trainingDigits/{}'.format(file)))\n",
    "        TrainLabel.append(int(file.split('_')[0]))\n",
    "    TrainData = np.array(TrainData)\n",
    "    TrainLabel = np.array(TrainLabel)\n",
    "    error = 0\n",
    "    for file in os.listdir('testDigits'):\n",
    "        TestData.append(ImageToMatrix('testDigits/{}'.format(file)))\n",
    "        TestLabel.append(int(file.split('_')[0]))\n",
    "        clf = KNN(ImageToMatrix('testDigits/{}'.format(file)), TrainData, TrainLabel, 3)\n",
    "        if clf != int(file.split('_')[0]):\n",
    "            error += 1\n",
    "    print('Error rate is {}'.format(error/len(os.listdir('testDigits'))))"
   ]
  },
  {
   "cell_type": "code",
   "execution_count": 295,
   "metadata": {},
   "outputs": [
    {
     "name": "stdout",
     "output_type": "stream",
     "text": [
      "Error rate is 0.010570824524312896\n"
     ]
    }
   ],
   "source": [
    "HandwritingClassTest()"
   ]
  },
  {
   "cell_type": "code",
   "execution_count": 294,
   "metadata": {
    "scrolled": true
   },
   "outputs": [
    {
     "data": {
      "image/png": "[encoded data removed]",
      "text/plain": [
       "<matplotlib.figure.Figure at 0x22b9ff7a630>"
      ]
     },
     "metadata": {},
     "output_type": "display_data"
    },
    {
     "name": "stdout",
     "output_type": "stream",
     "text": [
      "Error rate is 0.05\n",
      "Error rate is 0.1\n",
      "Error rate is 0.08\n",
      "Error rate is 0.06\n",
      "Error rate is 0.06\n",
      "Error rate is 0.05\n",
      "Error rate is 0.06\n",
      "Error rate is 0.01\n",
      "Error rate is 0.02\n",
      "Error rate is 0.06\n",
      "Mean error rate is 0.05500000000000001\n"
     ]
    }
   ],
   "source": [
    "KKNCrossTest()"
   ]
  },
  {
   "cell_type": "code",
   "execution_count": null,
   "metadata": {
    "scrolled": true
   },
   "outputs": [],
   "source": []
  },
  {
   "cell_type": "code",
   "execution_count": 5,
   "metadata": {},
   "outputs": [],
   "source": []
  },
  {
   "cell_type": "code",
   "execution_count": 6,
   "metadata": {
    "scrolled": true
   },
   "outputs": [
    {
     "output_type": "execute_result",
     "data": {
      "text/plain": "[(1, 2), (1, 3), (2, 3)]"
     },
     "metadata": {},
     "execution_count": 6
    }
   ],
   "source": [
    "list(combinations(range(1, 4), 2))"
   ]
  },
  {
   "cell_type": "code",
   "execution_count": null,
   "metadata": {
    "scrolled": true
   },
   "outputs": [],
   "source": []
  },
  {
   "cell_type": "code",
   "execution_count": null,
   "metadata": {},
   "outputs": [],
   "source": []
  },
  {
   "cell_type": "code",
   "execution_count": 211,
   "metadata": {},
   "outputs": [],
   "source": []
  },
  {
   "cell_type": "code",
   "execution_count": null,
   "metadata": {},
   "outputs": [],
   "source": []
  },
  {
   "cell_type": "code",
   "execution_count": null,
   "metadata": {},
   "outputs": [],
   "source": []
  },
  {
   "cell_type": "code",
   "execution_count": null,
   "metadata": {},
   "outputs": [],
   "source": []
  },
  {
   "cell_type": "code",
   "execution_count": null,
   "metadata": {},
   "outputs": [],
   "source": []
  },
  {
   "cell_type": "code",
   "execution_count": null,
   "metadata": {},
   "outputs": [],
   "source": []
  }
 ],
 "metadata": {
  "kernelspec": {
   "display_name": "Python 3",
   "language": "python",
   "name": "python3"
  },
  "language_info": {
   "codemirror_mode": {
    "name": "ipython",
    "version": 3
   },
   "file_extension": ".py",
   "mimetype": "text/x-python",
   "name": "python",
   "nbconvert_exporter": "python",
   "pygments_lexer": "ipython3",
   "version": "3.6.4"
  }
 },
 "nbformat": 4,
 "nbformat_minor": 2
}