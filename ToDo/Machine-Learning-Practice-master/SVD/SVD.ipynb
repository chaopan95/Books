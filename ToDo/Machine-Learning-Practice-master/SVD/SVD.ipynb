{
 "cells": [
  {
   "cell_type": "code",
   "execution_count": 172,
   "metadata": {},
   "outputs": [],
   "source": [
    "import numpy as np\n",
    "import matplotlib.pyplot as plt"
   ]
  },
  {
   "cell_type": "code",
   "execution_count": 178,
   "metadata": {},
   "outputs": [],
   "source": [
    "def loadExData():\n",
    "    return[[0, 0, 0, 2, 2],\n",
    "           [0, 0, 0, 3, 3],\n",
    "           [0, 0, 0, 1, 1],\n",
    "           [1, 1, 1, 0, 0],\n",
    "           [2, 2, 2, 0, 0],\n",
    "           [5, 5, 5, 0, 0],\n",
    "           [1, 1, 1, 0, 0]]\n",
    "    \n",
    "def loadExData2():\n",
    "    return[[0, 0, 0, 0, 0, 4, 0, 0, 0, 0, 5],\n",
    "           [0, 0, 0, 3, 0, 4, 0, 0, 0, 0, 3],\n",
    "           [0, 0, 0, 0, 4, 0, 0, 1, 0, 4, 0],\n",
    "           [3, 3, 4, 0, 0, 0, 0, 2, 2, 0, 0],\n",
    "           [5, 4, 5, 0, 0, 0, 0, 5, 5, 0, 0],\n",
    "           [0, 0, 0, 0, 5, 0, 1, 0, 0, 5, 0],\n",
    "           [4, 3, 4, 0, 0, 0, 0, 5, 5, 0, 1],\n",
    "           [0, 0, 0, 4, 0, 4, 0, 0, 0, 0, 4],\n",
    "           [0, 0, 0, 2, 0, 2, 5, 0, 0, 1, 2],\n",
    "           [0, 0, 0, 0, 5, 0, 0, 0, 0, 4, 0],\n",
    "           [1, 0, 0, 0, 0, 0, 0, 1, 2, 0, 0]]\n",
    "\n",
    "def euclideanSim(inA, inB): #similarity\n",
    "    return 1.0 / (1.0 + np.linalg.norm(inA - inB))\n",
    "def pearsonSim(inA, inB):\n",
    "    return 0.5 + 0.5 * np.corrcoef(inA, inB, rowvar=0)[0][1]\n",
    "def cosineSim(inA, inB):\n",
    "    num = float(inA.T * inB)\n",
    "    return 0.5 + 0.5 * (num / (np.linalg.norm(inA) * np.linalg.norm(inB)))\n",
    "\n",
    "def standEst(dataMat, user, simMeans, item):\n",
    "    m, n = dataMat.shape\n",
    "    simTotal = 0\n",
    "    ratSimTotal = 0\n",
    "    for j in range(n):\n",
    "        userRating = dataMat[user, j]\n",
    "        if userRating == 0:\n",
    "            continue\n",
    "        overLap = np.nonzero(np.logical_and(dataMat[:, item].A > 0, dataMat[:, j].A > 0))[0]\n",
    "        if len(overLap) == 0:\n",
    "            similarity = 0\n",
    "        else:\n",
    "            similarity = simMeans(dataMat[overLap, item], dataMat[overLap, j])\n",
    "        simTotal += similarity\n",
    "        ratSimTotal += similarity * userRating\n",
    "    if simTotal == 0:\n",
    "        return 0\n",
    "    else:\n",
    "        return ratSimTotal / simTotal\n",
    "\n",
    "def getKSigma(sigma, percentage = 0.9):\n",
    "    total = np.sum(sigma ** 2)\n",
    "    accumulate = 0\n",
    "    for i in range(len(sigma)):\n",
    "        accumulate += sigma[i] ** 2\n",
    "        if accumulate / total >= percentage:\n",
    "            return i + 1\n",
    "    return len(sigma)\n",
    "\n",
    "def svdEst(dataMat, user, simMeans, item):\n",
    "    m, n = dataMat.shape\n",
    "    simTotal = 0\n",
    "    ratSimTotal = 0\n",
    "    U, Sigma, VT = np.linalg.svd(dataMat)\n",
    "    k = getKSigma(Sigma)\n",
    "    SigmaK = np.mat(np.eye(k) * Sigma[:k])\n",
    "    xformedItems = dataMat.T * U[:, :k] * SigmaK.I\n",
    "    for j in range(n):\n",
    "        userRating = dataMat[user, j]\n",
    "        if userRating == 0 or j == item:\n",
    "            continue\n",
    "        similarity = simMeans(xformedItems[item, :].T, xformedItems[j, :].T)\n",
    "        simTotal += similarity\n",
    "        ratSimTotal += similarity * userRating\n",
    "    if simTotal == 0:\n",
    "        return 0\n",
    "    else:\n",
    "        return ratSimTotal/simTotal\n",
    "\n",
    "def recommend(dataMat, user, N = 3, simMeans = cosineSim, estMethod = standEst):\n",
    "    unratedItems = np.nonzero(dataMat[user, :].A == 0)[1]\n",
    "    if len(unratedItems) == 0:\n",
    "        return 'All is rated'\n",
    "    itemScore = []\n",
    "    for item in unratedItems:\n",
    "        estimatedScore = estMethod(dataMat, user, simMeans, item)\n",
    "        itemScore.append((item, estimatedScore))\n",
    "    return sorted(itemScore, key = lambda x:x[1], reverse = True)\n",
    "\n",
    "def printMat(inMat, thresh=0.8):\n",
    "    for i in range(32):\n",
    "        value = '0' * 32\n",
    "        for k in range(32):\n",
    "            if float(inMat[i,k]) > thresh:\n",
    "                value = value[:k] + '1' + value[k+1:]\n",
    "        print(value)\n",
    "\n",
    "def imgCompress(numSV=3, thresh=0.8):\n",
    "    myl = []\n",
    "    for line in open('0_5.txt').readlines():\n",
    "        newRow = []\n",
    "        for i in range(32):\n",
    "            newRow.append(int(line[i]))\n",
    "        myl.append(newRow)\n",
    "    myMat = np.mat(myl)\n",
    "    print (\"****original matrix******\")\n",
    "    printMat(myMat, thresh)\n",
    "    U, Sigma, VT = np.linalg.svd(myMat)\n",
    "    SigRecon = np.mat(np.zeros((numSV, numSV)))\n",
    "    for k in range(numSV):#construct diagonal matrix from vector\n",
    "        SigRecon[k,k] = Sigma[k]\n",
    "    reconMat = U[:,:numSV] * SigRecon *VT[:numSV,:]\n",
    "    print (\"****reconstructed matrix using {} singular values******\".format(numSV))\n",
    "    printMat(reconMat, thresh)"
   ]
  },
  {
   "cell_type": "code",
   "execution_count": 174,
   "metadata": {},
   "outputs": [],
   "source": [
    "dataMat = np.mat(loadExData2())\n",
    "U, sigma, VT = np.linalg.svd(dataMat)"
   ]
  },
  {
   "cell_type": "code",
   "execution_count": 175,
   "metadata": {},
   "outputs": [
    {
     "data": {
      "text/plain": [
       "[(6, 3.3333333333333335),\n",
       " (9, 3.3333333333333335),\n",
       " (0, 3.0),\n",
       " (1, 3.0),\n",
       " (2, 3.0),\n",
       " (7, 3.0),\n",
       " (8, 3.0),\n",
       " (4, 0)]"
      ]
     },
     "execution_count": 175,
     "metadata": {},
     "output_type": "execute_result"
    }
   ],
   "source": [
    "recommend(dataMat, 1)"
   ]
  },
  {
   "cell_type": "code",
   "execution_count": 176,
   "metadata": {},
   "outputs": [
    {
     "data": {
      "text/plain": [
       "[(6, 3.332949990145985),\n",
       " (9, 3.331544717872839),\n",
       " (4, 3.331447487712862),\n",
       " (8, 3.3268848098453243),\n",
       " (0, 3.326828341851847),\n",
       " (2, 3.326817579698422),\n",
       " (1, 3.326809078158717),\n",
       " (7, 3.3267024074544325)]"
      ]
     },
     "execution_count": 176,
     "metadata": {},
     "output_type": "execute_result"
    }
   ],
   "source": [
    "recommend(dataMat, 1, estMethod=svdEst)"
   ]
  },
  {
   "cell_type": "code",
   "execution_count": 179,
   "metadata": {
    "scrolled": false
   },
   "outputs": [
    {
     "name": "stdout",
     "output_type": "stream",
     "text": [
      "****original matrix******\n",
      "00000000000000110000000000000000\n",
      "00000000000011111100000000000000\n",
      "00000000000111111110000000000000\n",
      "00000000001111111111000000000000\n",
      "00000000111111111111100000000000\n",
      "00000001111111111111110000000000\n",
      "00000000111111111111111000000000\n",
      "00000000111111100001111100000000\n",
      "00000001111111000001111100000000\n",
      "00000011111100000000111100000000\n",
      "00000011111100000000111110000000\n",
      "00000011111100000000011110000000\n",
      "00000011111100000000011110000000\n",
      "00000001111110000000001111000000\n",
      "00000011111110000000001111000000\n",
      "00000011111100000000001111000000\n",
      "00000001111100000000001111000000\n",
      "00000011111100000000001111000000\n",
      "00000001111100000000001111000000\n",
      "00000001111100000000011111000000\n",
      "00000000111110000000001111100000\n",
      "00000000111110000000001111100000\n",
      "00000000111110000000001111100000\n",
      "00000000111110000000011111000000\n",
      "00000000111110000000111111000000\n",
      "00000000111111000001111110000000\n",
      "00000000011111111111111110000000\n",
      "00000000001111111111111110000000\n",
      "00000000001111111111111110000000\n",
      "00000000000111111111111000000000\n",
      "00000000000011111111110000000000\n",
      "00000000000000111111000000000000\n",
      "****reconstructed matrix using 3 singular values******\n",
      "00000000000000000000000000000000\n",
      "00000000000000000000000000000000\n",
      "00000000000010111110000000000000\n",
      "00000000000011111110000000000000\n",
      "00000000000111111111000000000000\n",
      "00000000001111111111110000000000\n",
      "00000000001111111111110000000000\n",
      "00000000011100000000111000000000\n",
      "00000000111100000000111100000000\n",
      "00000001111100000000111100000000\n",
      "00000001111100000000011100000000\n",
      "00000001111100000000011100000000\n",
      "00000001111100000000011100000000\n",
      "00000000111100000000001111000000\n",
      "00000000111100000000001111000000\n",
      "00000000111100000000001111000000\n",
      "00000000111100000000001111000000\n",
      "00000000111100000000001111000000\n",
      "00000000111100000000001111000000\n",
      "00000000111100000000001110000000\n",
      "00000000111100000000001111000000\n",
      "00000000111100000000001111000000\n",
      "00000000111100000000001111000000\n",
      "00000000111100000000001111000000\n",
      "00000000111100000000001110000000\n",
      "00000000111100000000111100000000\n",
      "00000000001111111111111000000000\n",
      "00000000001111111111110000000000\n",
      "00000000001111111111110000000000\n",
      "00000000000011111111110000000000\n",
      "00000000000011111111100000000000\n",
      "00000000000000000000000000000000\n"
     ]
    }
   ],
   "source": [
    "imgCompress()"
   ]
  },
  {
   "cell_type": "code",
   "execution_count": 23,
   "metadata": {},
   "outputs": [
    {
     "data": {
      "text/plain": [
       "array([[ 1., -1., -1.],\n",
       "       [-1.,  1.,  1.],\n",
       "       [-1.,  1.,  1.]])"
      ]
     },
     "execution_count": 23,
     "metadata": {},
     "output_type": "execute_result"
    }
   ],
   "source": [
    "np.corrcoef(np.mat([[11, 25, 36], [10, 26, 67]]).T, rowvar = 1)"
   ]
  },
  {
   "cell_type": "code",
   "execution_count": 164,
   "metadata": {},
   "outputs": [],
   "source": [
    "line = ' ' * 32"
   ]
  },
  {
   "cell_type": "code",
   "execution_count": null,
   "metadata": {},
   "outputs": [],
   "source": []
  },
  {
   "cell_type": "code",
   "execution_count": null,
   "metadata": {},
   "outputs": [],
   "source": []
  },
  {
   "cell_type": "code",
   "execution_count": null,
   "metadata": {},
   "outputs": [],
   "source": []
  },
  {
   "cell_type": "code",
   "execution_count": null,
   "metadata": {},
   "outputs": [],
   "source": []
  },
  {
   "cell_type": "code",
   "execution_count": null,
   "metadata": {},
   "outputs": [],
   "source": []
  }
 ],
 "metadata": {
  "kernelspec": {
   "display_name": "Python 3",
   "language": "python",
   "name": "python3"
  },
  "language_info": {
   "codemirror_mode": {
    "name": "ipython",
    "version": 3
   },
   "file_extension": ".py",
   "mimetype": "text/x-python",
   "name": "python",
   "nbconvert_exporter": "python",
   "pygments_lexer": "ipython3",
   "version": "3.6.4"
  }
 },
 "nbformat": 4,
 "nbformat_minor": 2
}
