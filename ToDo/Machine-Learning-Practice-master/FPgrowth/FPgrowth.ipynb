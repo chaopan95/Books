{
 "cells": [
  {
   "cell_type": "code",
   "execution_count": 1,
   "metadata": {},
   "outputs": [],
   "source": [
    "import copy\n",
    "import operator\n",
    "import copy\n",
    "import numpy as np"
   ]
  },
  {
   "cell_type": "code",
   "execution_count": 15,
   "metadata": {},
   "outputs": [],
   "source": [
    "def loadData():\n",
    "    simpDat = [['r', 'z', 'h', 'j', 'p'],\n",
    "               ['z', 'y', 'x', 'w', 'v', 'u', 't', 's'],\n",
    "               ['z'],\n",
    "               ['r', 'x', 'n', 'o', 's'],\n",
    "               ['y', 'r', 'x', 'z', 'q', 't', 'p'],\n",
    "               ['y', 'z', 'x', 'e', 'q', 's', 't', 'm']]\n",
    "    data = {}\n",
    "    for line in simpDat:\n",
    "        data[frozenset(line)] = 1\n",
    "    return data\n",
    "class node:\n",
    "    def __init__(self, info, count = 1):\n",
    "        self.info = info\n",
    "        self.count = count\n",
    "        self.children = []\n",
    "        self.parent = []\n",
    "class tree:\n",
    "    def __init__(self, valueList, countList):\n",
    "        self.root = node('Null')\n",
    "        self.valueList = valueList\n",
    "        self.countList = countList\n",
    "        self.createTree()\n",
    "    def createTree(self):\n",
    "        for value in self.valueList:\n",
    "            curNode = self.root\n",
    "            while(len(curNode.children) != 0):\n",
    "                curNode = curNode.children[0]\n",
    "            curNode.children.append(node(value, self.countList[self.valueList.index(value)]))\n",
    "            childNode = curNode.children[0]\n",
    "            childNode.parent.append(curNode)\n",
    "\n",
    "    def disp(self):\n",
    "        curNode = self.root\n",
    "        while(len(curNode.children)):\n",
    "            print(curNode.info, curNode.count)\n",
    "            curNode = curNode.children[0]\n",
    "        print(curNode.info, curNode.count)\n",
    "def FPtree(data, minSupport = 2):\n",
    "    headers = {}\n",
    "    for line in data:\n",
    "        for item in line:\n",
    "            headers[item] = headers.get(item, 0) + data[line]\n",
    "    headerTable = {}\n",
    "    for key in headers.keys():\n",
    "        if headers[key] >= minSupport:\n",
    "            headerTable[key] = headers[key]\n",
    "    root = node('Null')\n",
    "    for line in data:\n",
    "        filterLine = {}\n",
    "        for item in line:\n",
    "            if item in headerTable.keys():\n",
    "                filterLine[item] = headerTable[item]\n",
    "        sortFilterLine = []\n",
    "        for item, count in sorted(filterLine.items(), key = operator.itemgetter(1), reverse = True):\n",
    "            sortFilterLine.append((item, list(line).count(item[0]) * data[line]))\n",
    "        valueList = []\n",
    "        countList = []\n",
    "        for value, count in sortFilterLine:\n",
    "            valueList.append(value)\n",
    "            countList.append(count)\n",
    "        newTree = tree(valueList, countList)\n",
    "        root = mergeTree(root, newTree.root)\n",
    "    return root, headerTable\n",
    "def mergeTree(tree1, tree2):\n",
    "    cur1 = tree1\n",
    "    cur2 = tree2\n",
    "    while(len(cur1.children) and len(cur2.children)):\n",
    "        if cur1.info == cur2.info:\n",
    "            cur1.count += cur2.count\n",
    "            ind = NodeIndexOfTreeList(cur1.children, cur2.children[0])\n",
    "            if ind == -1:\n",
    "                cur1.children.append(cur2.children[0])\n",
    "                return tree1\n",
    "            else:\n",
    "                cur1 = cur1.children[ind]\n",
    "                cur2 = cur2.children[0]\n",
    "    if len(cur1.children) == 0 and len(cur2.children) > 0:\n",
    "        if cur1.info == cur2.info:\n",
    "            cur1.count += cur2.count\n",
    "            cur1.children.append(cur2.children[0])\n",
    "    if len(cur2.children) == 0:\n",
    "        if cur1.info == cur2.info:\n",
    "            cur1.count += cur2.count\n",
    "    tree1.count = 0\n",
    "    return tree1\n",
    "def NodeIndexOfTreeList(listNode, node):\n",
    "    for i in range(len(listNode)):\n",
    "        if node.info == listNode[i].info:\n",
    "            return i\n",
    "    return -1\n",
    "def PrintTree(treeRoot):\n",
    "    queue = [treeRoot]\n",
    "    front = treeRoot\n",
    "    curLast = treeRoot\n",
    "    nextLast = treeRoot\n",
    "    line = ''\n",
    "    while(len(queue)):\n",
    "        front = queue[0]\n",
    "        queue = queue[1:]\n",
    "        line += '{}:{}  '.format(front.info, front.count)\n",
    "        if len(front.children) > 0:\n",
    "            for item in front.children:\n",
    "                queue.append(item)\n",
    "            nextLast = front.children[-1]\n",
    "        if curLast == front:\n",
    "            print(line)\n",
    "            line = ''\n",
    "            curLast = nextLast\n",
    "def getNode(root, info):\n",
    "    nodeList = []\n",
    "    queue = [root]\n",
    "    front = root\n",
    "    while(len(queue)):\n",
    "        front = queue[0]\n",
    "        queue = queue[1:]\n",
    "        if front.info == info:\n",
    "            nodeList.append(front)\n",
    "        if len(front.children) > 0:\n",
    "            for item in front.children:\n",
    "                queue.append(item)\n",
    "    return nodeList\n",
    "def prefixPath(root, item):\n",
    "    nodeList = getNode(root, item)\n",
    "    path = {}\n",
    "    for node in nodeList:\n",
    "        items = []\n",
    "        count = node.count\n",
    "        while(node.parent):\n",
    "            node = node.parent[0]\n",
    "            if node.info == 'Null':\n",
    "                break\n",
    "            items.insert(0, node.info)\n",
    "        if len(items) > 0:\n",
    "            path[frozenset(items)] = count\n",
    "    return path"
   ]
  },
  {
   "cell_type": "code",
   "execution_count": 16,
   "metadata": {},
   "outputs": [],
   "source": [
    "def mineTree(tree, header, minSup, preFix, freqItemList):\n",
    "    bigL = [v[0] for v in sorted(header.items(), key = operator.itemgetter(1), reverse = False)]\n",
    "    for basePattern in bigL:\n",
    "        newFreqSet = preFix.copy()\n",
    "        newFreqSet.add(basePattern)\n",
    "        freqItemList.append(newFreqSet)\n",
    "        condPatBases = prefixPath(tree, basePattern)\n",
    "        condTree, h = FPtree(condPatBases, minSup)\n",
    "        if len(h):\n",
    "            mineTree(condTree, h, minSup, newFreqSet, freqItemList)\n",
    "        print(newFreqSet)\n",
    "        PrintTree(condTree)\n",
    "        print('')"
   ]
  },
  {
   "cell_type": "code",
   "execution_count": 17,
   "metadata": {
    "scrolled": true
   },
   "outputs": [
    {
     "name": "stdout",
     "output_type": "stream",
     "text": [
      "{'r'}\n",
      "Null:0  \n",
      "\n",
      "{'y', 'x'}\n",
      "Null:1  \n",
      "\n",
      "{'x', 'y', 'z'}\n",
      "Null:1  \n",
      "\n",
      "{'y', 'z'}\n",
      "Null:0  \n",
      "x:3  \n",
      "\n",
      "{'y'}\n",
      "Null:0  \n",
      "x:3  \n",
      "z:3  \n",
      "\n",
      "{'t', 'x'}\n",
      "Null:1  \n",
      "\n",
      "{'t', 'y', 'x'}\n",
      "Null:1  \n",
      "\n",
      "{'t', 'y'}\n",
      "Null:0  \n",
      "x:3  \n",
      "\n",
      "{'t', 'y', 'z'}\n",
      "Null:1  \n",
      "\n",
      "{'x', 't', 'y', 'z'}\n",
      "Null:1  \n",
      "\n",
      "{'x', 't', 'z'}\n",
      "Null:0  \n",
      "y:3  \n",
      "\n",
      "{'t', 'z'}\n",
      "Null:0  \n",
      "y:3  \n",
      "x:3  \n",
      "\n",
      "{'t'}\n",
      "Null:0  \n",
      "x:3  \n",
      "y:3  \n",
      "z:3  \n",
      "\n",
      "{'x', 's'}\n",
      "Null:1  \n",
      "\n",
      "{'s'}\n",
      "Null:0  \n",
      "x:3  \n",
      "\n",
      "{'z', 'x'}\n",
      "Null:1  \n",
      "\n",
      "{'x'}\n",
      "Null:0  \n",
      "z:3  \n",
      "\n",
      "{'z'}\n",
      "Null:1  \n",
      "\n"
     ]
    }
   ],
   "source": [
    "root, header = FPtree(loadData(), 3)\n",
    "r = copy.deepcopy(root)\n",
    "prefix = set([])\n",
    "freqItemList = []\n",
    "mineTree(root, header, 3, prefix, freqItemList)"
   ]
  },
  {
   "cell_type": "code",
   "execution_count": 18,
   "metadata": {},
   "outputs": [
    {
     "data": {
      "text/plain": [
       "[{'r'},\n",
       " {'y'},\n",
       " {'x', 'y'},\n",
       " {'y', 'z'},\n",
       " {'x', 'y', 'z'},\n",
       " {'t'},\n",
       " {'t', 'x'},\n",
       " {'t', 'y'},\n",
       " {'t', 'x', 'y'},\n",
       " {'t', 'z'},\n",
       " {'t', 'y', 'z'},\n",
       " {'t', 'x', 'z'},\n",
       " {'t', 'x', 'y', 'z'},\n",
       " {'s'},\n",
       " {'s', 'x'},\n",
       " {'x'},\n",
       " {'x', 'z'},\n",
       " {'z'}]"
      ]
     },
     "execution_count": 18,
     "metadata": {},
     "output_type": "execute_result"
    }
   ],
   "source": [
    "freqItemList"
   ]
  },
  {
   "cell_type": "code",
   "execution_count": 19,
   "metadata": {},
   "outputs": [],
   "source": [
    "data = {}\n",
    "for line in [line.split() for line in open('kosarak.dat').readlines()]:\n",
    "    data[frozenset(line)] = 1"
   ]
  },
  {
   "cell_type": "code",
   "execution_count": 20,
   "metadata": {},
   "outputs": [],
   "source": [
    "root, header = FPtree(data, 100000)"
   ]
  },
  {
   "cell_type": "code",
   "execution_count": 22,
   "metadata": {},
   "outputs": [
    {
     "name": "stdout",
     "output_type": "stream",
     "text": [
      "{'1', '6'}\n",
      "Null:1  \n",
      "\n",
      "{'1'}\n",
      "Null:0  \n",
      "6:107404  \n",
      "\n",
      "{'11', '3'}\n",
      "Null:0  \n",
      "\n",
      "{'6', '3'}\n",
      "Null:1  \n",
      "\n",
      "{'3'}\n",
      "Null:0  \n",
      "6:186289  11:0  \n",
      "11:0  \n",
      "\n",
      "{'11'}\n",
      "Null:0  \n",
      "\n",
      "{'6'}\n",
      "Null:1  \n",
      "\n"
     ]
    }
   ],
   "source": [
    "freqList = []\n",
    "mineTree(root, header, 100000, set([]), freqList)"
   ]
  },
  {
   "cell_type": "code",
   "execution_count": 25,
   "metadata": {},
   "outputs": [
    {
     "data": {
      "text/plain": [
       "[{'1'}, {'1', '6'}, {'3'}, {'11', '3'}, {'3', '6'}, {'11'}, {'6'}]"
      ]
     },
     "execution_count": 25,
     "metadata": {},
     "output_type": "execute_result"
    }
   ],
   "source": [
    "freqList"
   ]
  },
  {
   "cell_type": "code",
   "execution_count": null,
   "metadata": {},
   "outputs": [],
   "source": []
  },
  {
   "cell_type": "code",
   "execution_count": null,
   "metadata": {},
   "outputs": [],
   "source": []
  },
  {
   "cell_type": "code",
   "execution_count": null,
   "metadata": {},
   "outputs": [],
   "source": []
  },
  {
   "cell_type": "code",
   "execution_count": null,
   "metadata": {},
   "outputs": [],
   "source": []
  }
 ],
 "metadata": {
  "kernelspec": {
   "display_name": "Python 3",
   "language": "python",
   "name": "python3"
  },
  "language_info": {
   "codemirror_mode": {
    "name": "ipython",
    "version": 3
   },
   "file_extension": ".py",
   "mimetype": "text/x-python",
   "name": "python",
   "nbconvert_exporter": "python",
   "pygments_lexer": "ipython3",
   "version": "3.6.4"
  }
 },
 "nbformat": 4,
 "nbformat_minor": 2
}
